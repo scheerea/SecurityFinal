{
 "cells": [
  {
   "cell_type": "code",
   "execution_count": 4,
   "id": "8f783409",
   "metadata": {},
   "outputs": [
    {
     "name": "stdout",
     "output_type": "stream",
     "text": [
      "Requirement already satisfied: tld in c:\\users\\thefa\\anaconda3\\lib\\site-packages (0.12.7)\n"
     ]
    },
    {
     "name": "stderr",
     "output_type": "stream",
     "text": [
      "\n",
      "[notice] A new release of pip is available: 23.0 -> 23.1.2\n",
      "[notice] To update, run: python.exe -m pip install --upgrade pip\n"
     ]
    },
    {
     "data": {
      "text/plain": [
       "<bound method NDFrame.head of                                                      url\n",
       "0                              https://ervashipping.com/\n",
       "1        http://www.gabung-grupmabarcimbrut.duckdns.org/\n",
       "2              http://republik-jancuk.000webhostapp.com/\n",
       "3             https://www.chet-notnkt8-grup.duckdns.org/\n",
       "4      http://veromcertiom.ddns.net/connexion/certico...\n",
       "...                                                  ...\n",
       "10624      http://sites.google.com/site/habbotuttogratis\n",
       "10625       http://www.habbocreditosparati.blogspot.com/\n",
       "10626  http://creditiperhabbogratissicuro100.blogspot...\n",
       "10627  http://mundovirtualhabbo.blogspot.com/2009_01_...\n",
       "10628  http://aijcs.blogspot.com/2005/03/colourful-li...\n",
       "\n",
       "[10629 rows x 1 columns]>"
      ]
     },
     "execution_count": 4,
     "metadata": {},
     "output_type": "execute_result"
    }
   ],
   "source": [
    "import pandas as pd\n",
    "import matplotlib.pyplot as plt\n",
    "import numpy as np\n",
    "import urllib\n",
    "import os.path\n",
    "import re\n",
    "!pip install tld\n",
    "from tld import get_tld\n",
    "from tld import is_tld\n",
    "import tldextract\n",
    "data = pd.read_csv(\"Malicious_URLs.csv\")\n",
    "#data = data[:100]\n",
    "data.head"
   ]
  },
  {
   "cell_type": "code",
   "execution_count": 10,
   "id": "4d95245b",
   "metadata": {},
   "outputs": [
    {
     "ename": "NameError",
     "evalue": "name 'is_tld' is not defined",
     "output_type": "error",
     "traceback": [
      "\u001b[1;31m---------------------------------------------------------------------------\u001b[0m",
      "\u001b[1;31mNameError\u001b[0m                                 Traceback (most recent call last)",
      "\u001b[1;32m~\\AppData\\Local\\Temp\\ipykernel_13948\\805732716.py\u001b[0m in \u001b[0;36m<module>\u001b[1;34m\u001b[0m\n\u001b[0;32m      6\u001b[0m \u001b[0mtld_list\u001b[0m \u001b[1;33m=\u001b[0m \u001b[1;33m[\u001b[0m\u001b[1;33m]\u001b[0m\u001b[1;33m\u001b[0m\u001b[1;33m\u001b[0m\u001b[0m\n\u001b[0;32m      7\u001b[0m \u001b[1;32mfor\u001b[0m \u001b[0murl\u001b[0m \u001b[1;32min\u001b[0m \u001b[0mdata\u001b[0m\u001b[1;33m[\u001b[0m\u001b[1;34m'url'\u001b[0m\u001b[1;33m]\u001b[0m\u001b[1;33m:\u001b[0m\u001b[1;33m\u001b[0m\u001b[1;33m\u001b[0m\u001b[0m\n\u001b[1;32m----> 8\u001b[1;33m     \u001b[1;32mif\u001b[0m \u001b[0mis_tld\u001b[0m \u001b[1;33m==\u001b[0m \u001b[1;32mTrue\u001b[0m\u001b[1;33m:\u001b[0m\u001b[1;33m\u001b[0m\u001b[1;33m\u001b[0m\u001b[0m\n\u001b[0m\u001b[0;32m      9\u001b[0m         \u001b[0mtld\u001b[0m \u001b[1;33m=\u001b[0m \u001b[0mget_tld\u001b[0m\u001b[1;33m(\u001b[0m\u001b[0murl\u001b[0m\u001b[1;33m,\u001b[0m \u001b[0mfix_protocol\u001b[0m\u001b[1;33m=\u001b[0m\u001b[1;32mTrue\u001b[0m\u001b[1;33m)\u001b[0m\u001b[1;33m\u001b[0m\u001b[1;33m\u001b[0m\u001b[0m\n\u001b[0;32m     10\u001b[0m \u001b[1;33m\u001b[0m\u001b[0m\n",
      "\u001b[1;31mNameError\u001b[0m: name 'is_tld' is not defined"
     ]
    }
   ],
   "source": [
    "domain_list = []\n",
    "domain_len_list=[]\n",
    "five_list = []\n",
    "digit_count_list=[]\n",
    "unique_count_list = []\n",
    "tld_list = []\n",
    "for url in data['url']:\n",
    "    if is_tld == True:\n",
    "        tld = get_tld(url, fix_protocol=True)\n",
    "\n",
    "    tld_list.append(tld)\n",
    "    domain = tldextract.extract(url).domain\n",
    "    domain_list.append(domain)\n",
    "    domain_len_list.append(len(domain))\n",
    "    digits_count_domain = [domain.count(x) for x in \"1234567890\"]\n",
    "    digit_count_list.append(sum(digits_count_domain))\n",
    "    unique_count_domain = len(set(domain))\n",
    "    unique_count_list.append(unique_count_domain)\n",
    "    if len(domain) >= 1 and len(domain) <= 5:\n",
    "        five_list.append('1-5')\n",
    "    elif len(domain) >= 6 and len(domain) <= 10:\n",
    "        five_list.append('6-10')\n",
    "    elif len(domain) >= 11 and len(domain) <= 15:\n",
    "        five_list.append('11-15')\n",
    "    elif len(domain) >= 16:   \n",
    "        five_list.append('16')\n",
    "data['TLD']= tld_list\n",
    "data['domain_length'] = domain_len_list\n",
    "data['ActualDomain']= domain_list\n",
    "data['rank'] = five_list\n",
    "data['digit_counts']= digit_count_list\n",
    "data['unique_counts']= unique_count_list\n",
    "data"
   ]
  },
  {
   "cell_type": "code",
   "execution_count": null,
   "id": "6d716511",
   "metadata": {},
   "outputs": [],
   "source": []
  }
 ],
 "metadata": {
  "kernelspec": {
   "display_name": "Python 3 (ipykernel)",
   "language": "python",
   "name": "python3"
  },
  "language_info": {
   "codemirror_mode": {
    "name": "ipython",
    "version": 3
   },
   "file_extension": ".py",
   "mimetype": "text/x-python",
   "name": "python",
   "nbconvert_exporter": "python",
   "pygments_lexer": "ipython3",
   "version": "3.9.13"
  }
 },
 "nbformat": 4,
 "nbformat_minor": 5
}
